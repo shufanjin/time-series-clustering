{
 "cells": [
  {
   "cell_type": "code",
   "execution_count": 3,
   "id": "1fb62192",
   "metadata": {},
   "outputs": [],
   "source": [
    "import pandas as pd\n",
    "\n",
    "# Load and clean Treasury Yield data\n",
    "treasury_yields = pd.read_csv('treasury_yields.csv', skiprows=11, header=None)\n",
    "\n",
    "# Assign column names\n",
    "columns = [\n",
    "    \"Date\", \"1M\", \"3M\", \"6M\", \"1Y\", \"2Y\", \"3Y\", \"5Y\", \"7Y\", \"10Y\", \"20Y\", \"30Y\"\n",
    "]\n",
    "treasury_yields.columns = columns[:len(treasury_yields.columns)]\n",
    "\n",
    "# Drop rows with missing or invalid Date values\n",
    "treasury_yields = treasury_yields.dropna(subset=[\"Date\"])\n",
    "treasury_yields[\"Date\"] = pd.to_datetime(treasury_yields[\"Date\"], errors=\"coerce\")\n",
    "treasury_yields = treasury_yields.dropna(subset=[\"Date\"])\n",
    "\n",
    "# Convert yield columns to numeric values\n",
    "for col in columns[1:]:\n",
    "    treasury_yields[col] = pd.to_numeric(treasury_yields[col], errors=\"coerce\")\n",
    "\n",
    "# Create new cvs\n",
    "treasury_yields.to_csv('cleaned_treasury_yields.csv', index=False)"
   ]
  }
 ],
 "metadata": {
  "kernelspec": {
   "display_name": "Python 3 (ipykernel)",
   "language": "python",
   "name": "python3"
  },
  "language_info": {
   "codemirror_mode": {
    "name": "ipython",
    "version": 3
   },
   "file_extension": ".py",
   "mimetype": "text/x-python",
   "name": "python",
   "nbconvert_exporter": "python",
   "pygments_lexer": "ipython3",
   "version": "3.11.5"
  }
 },
 "nbformat": 4,
 "nbformat_minor": 5
}
